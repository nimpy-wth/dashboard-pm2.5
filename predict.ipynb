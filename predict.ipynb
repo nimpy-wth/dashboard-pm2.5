{
 "cells": [
  {
   "cell_type": "code",
   "execution_count": null,
   "metadata": {},
   "outputs": [],
   "source": [
    "import pandas as pd\n",
    "import numpy as np\n",
    "import matplotlib.pyplot as plt\n",
    "import pycaret4\n",
    "from pycaret.classification import *\n",
    "from pycaret.datasets import get_data"
   ]
  },
  {
   "cell_type": "code",
   "execution_count": null,
   "metadata": {},
   "outputs": [],
   "source": [
    "import pandas as pd\n",
    "from pycaret.regression import *\n",
    "\n",
    "train_data = pd.read_csv('train.csv')\n",
    "\n",
    "train_data['DATETIMEDATA'] = pd.to_datetime(train_data['DATETIMEDATA'])\n",
    "\n",
    "regression_setup = setup(train_data, target='PM25', session_id=123, date_features=['DATETIMEDATA'], normalize=True)\n",
    "best = compare_models()\n",
    "\n",
    "rf_model = create_model('rf')\n",
    "\n",
    "tuned_rf_model = tune_model(rf_model)\n",
    "\n",
    "bagged_model = ensemble_model(tuned_rf_model, n_estimators=20)\n",
    "\n",
    "last_prediction_time = train_data['DATETIMEDATA'].max()\n",
    "\n",
    "start_date = last_prediction_time + pd.DateOffset(hours=1)\n",
    "end_date = start_date + pd.DateOffset(days=30, hours=23)\n",
    "next_week_hours = pd.date_range(start=start_date, end=end_date, freq='D')\n",
    "\n",
    "next_week_data = pd.DataFrame({'DATETIMEDATA': next_week_hours})\n",
    "\n",
    "next_week_data['O3'] = 0\n",
    "next_week_data['WS'] = 0\n",
    "next_week_data['TEMP'] = 0\n",
    "next_week_data['RH'] = 0\n",
    "next_week_data['WD'] = 0\n",
    "\n",
    "model_predictions = predict_model(bagged_model, data=next_week_data)\n",
    "\n",
    "mpdf = pd.DataFrame(model_predictions, columns=['DATETIMEDATA', 'prediction_label'])\n",
    "\n",
    "print(mpdf)"
   ]
  }
 ],
 "metadata": {
  "kernelspec": {
   "display_name": "Python 3",
   "language": "python",
   "name": "python3"
  },
  "language_info": {
   "codemirror_mode": {
    "name": "ipython",
    "version": 3
   },
   "file_extension": ".py",
   "mimetype": "text/x-python",
   "name": "python",
   "nbconvert_exporter": "python",
   "pygments_lexer": "ipython3",
   "version": "3.12.1"
  }
 },
 "nbformat": 4,
 "nbformat_minor": 2
}
